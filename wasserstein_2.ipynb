{
 "cells": [
  {
   "cell_type": "code",
   "execution_count": 16,
   "metadata": {},
   "outputs": [],
   "source": [
    "import numpy as np\n",
    "import pandas as pd\n",
    "import networkx as nx"
   ]
  },
  {
   "cell_type": "code",
   "execution_count": 3,
   "metadata": {},
   "outputs": [],
   "source": [
    "np.random.seed(5)"
   ]
  },
  {
   "cell_type": "code",
   "execution_count": 4,
   "metadata": {},
   "outputs": [
    {
     "name": "stdout",
     "output_type": "stream",
     "text": [
      "[[ 0.  0.  0. 63. 54.  0.  5. 68. 17.  0.]\n",
      " [ 0.  0. 17.  0.  0.  0.  0. 56. 46. 45.]\n",
      " [ 0. 17.  0.  0. 76. 63.  0. 79.  0. 95.]\n",
      " [63.  0.  0.  0.  0.  0.  0. 34.  0. 23.]\n",
      " [54.  0. 76.  0.  0.  0.  8.  8.  0.  0.]\n",
      " [ 0.  0. 63.  0.  0.  0.  0.  0. 48.  0.]\n",
      " [ 5.  0.  0.  0.  8.  0.  0.  0.  0.  0.]\n",
      " [68. 56. 79. 34.  8.  0.  0.  0.  0. 71.]\n",
      " [17. 46.  0.  0.  0. 48.  0.  0.  0.  0.]\n",
      " [ 0. 45. 95. 23.  0.  0.  0. 71.  0.  0.]]\n",
      "\n",
      "\n",
      "[[ 0.  0. 14. 23.  0.  0.  0. 88. 92.  0.  0.  0.  0.  0.  0.  0.  0.  0.\n",
      "   0.  0.]\n",
      " [ 0.  0.  0. 93.  0. 58. 33.  0.  0.  0.  0.  0.  0.  0.  0.  0.  0.  0.\n",
      "   0.  0.]\n",
      " [14.  0.  0.  0.  0.  0. 70.  0.  0.  0.  0.  0.  0.  0.  0.  0.  0.  0.\n",
      "   0.  0.]\n",
      " [23. 93.  0.  0.  0.  0.  0. 65.  0.  0.  0.  0.  0.  0.  0.  0.  0.  0.\n",
      "   0.  0.]\n",
      " [ 0.  0.  0.  0.  0.  0.  0.  2.  0. 58.  0.  0.  0.  0.  0.  0.  0.  0.\n",
      "   0.  0.]\n",
      " [ 0. 58.  0.  0.  0.  0.  0. 24. 83. 95.  0.  0.  0.  0.  0.  0.  0.  0.\n",
      "   0.  0.]\n",
      " [ 0. 33. 70.  0.  0.  0.  0. 69.  0. 29.  0.  0.  0.  0.  0.  0.  0.  0.\n",
      "   0.  0.]\n",
      " [88.  0.  0. 65.  2. 24. 69.  0.  0.  0.  0.  0.  0.  0.  0.  0.  0.  0.\n",
      "   0.  0.]\n",
      " [92.  0.  0.  0.  0. 83.  0.  0.  0.  0.  0.  0.  0.  0.  0.  0.  0.  0.\n",
      "   0.  0.]\n",
      " [ 0.  0.  0.  0. 58. 95. 29.  0.  0.  0.  0.  0.  0.  0.  0.  0.  0.  0.\n",
      "   0.  0.]\n",
      " [ 0.  0.  0.  0.  0.  0.  0.  0.  0.  0.  0.  0.  0.  0.  0.  0.  0.  0.\n",
      "   0.  0.]\n",
      " [ 0.  0.  0.  0.  0.  0.  0.  0.  0.  0.  0.  0.  0.  0.  0.  0.  0.  0.\n",
      "   0.  0.]\n",
      " [ 0.  0.  0.  0.  0.  0.  0.  0.  0.  0.  0.  0.  0.  0.  0.  0.  0.  0.\n",
      "   0.  0.]\n",
      " [ 0.  0.  0.  0.  0.  0.  0.  0.  0.  0.  0.  0.  0.  0.  0.  0.  0.  0.\n",
      "   0.  0.]\n",
      " [ 0.  0.  0.  0.  0.  0.  0.  0.  0.  0.  0.  0.  0.  0.  0.  0.  0.  0.\n",
      "   0.  0.]\n",
      " [ 0.  0.  0.  0.  0.  0.  0.  0.  0.  0.  0.  0.  0.  0.  0.  0.  0.  0.\n",
      "   0.  0.]\n",
      " [ 0.  0.  0.  0.  0.  0.  0.  0.  0.  0.  0.  0.  0.  0.  0.  0.  0.  0.\n",
      "   0.  0.]\n",
      " [ 0.  0.  0.  0.  0.  0.  0.  0.  0.  0.  0.  0.  0.  0.  0.  0.  0.  0.\n",
      "   0.  0.]\n",
      " [ 0.  0.  0.  0.  0.  0.  0.  0.  0.  0.  0.  0.  0.  0.  0.  0.  0.  0.\n",
      "   0.  0.]\n",
      " [ 0.  0.  0.  0.  0.  0.  0.  0.  0.  0.  0.  0.  0.  0.  0.  0.  0.  0.\n",
      "   0.  0.]]\n"
     ]
    }
   ],
   "source": [
    "# Now we want to create a couple of graphs. In practice, we start setting the number of nodes for each graph.\n",
    "\n",
    "length_s = 10\n",
    "length_t = 20\n",
    "\n",
    "# For each couple of nodes in a graph we generate a random natural number between 0 and 100.\n",
    "\n",
    "matrix_s = np.zeros((length_s, length_s))\n",
    "matrix_t = np.zeros((length_t, length_t))\n",
    "\n",
    "\n",
    "# We also want our graphs to be representative of reality (i.e. graphs are usually sparse).\n",
    "\n",
    "for i in range(length_s):\n",
    "    for j in range(i):\n",
    "        rnd = np.random.randint(1, 101)\n",
    "        unif = np.random.rand()\n",
    "        if unif > 0.6:\n",
    "            matrix_s[i][j] = rnd\n",
    "            matrix_s[j][i] = rnd\n",
    "        else:\n",
    "            matrix_s[i][j] = 0\n",
    "            matrix_s[j][i] = 0\n",
    "\n",
    "\n",
    "for i in range(length_s):\n",
    "    for j in range(i):\n",
    "        rnd = np.random.randint(1, 101)\n",
    "        unif = np.random.rand()\n",
    "        if unif > 0.6:\n",
    "            matrix_t[i][j] = rnd\n",
    "            matrix_t[j][i] = rnd\n",
    "        else:\n",
    "            matrix_t[i][j] = 0\n",
    "            matrix_t[j][i] = 0\n",
    "\n",
    "\n",
    "\n",
    "print(matrix_s)\n",
    "print(\"\\n\")\n",
    "print(matrix_t)"
   ]
  },
  {
   "cell_type": "code",
   "execution_count": 5,
   "metadata": {},
   "outputs": [
    {
     "name": "stdout",
     "output_type": "stream",
     "text": [
      "[0.11815068 0.09360731 0.18835616 0.06849315 0.08333333 0.06335616\n",
      " 0.00742009 0.1803653  0.06335616 0.13356164]\n",
      "\n",
      "\n",
      "[0.12109375 0.10267857 0.046875   0.10100446 0.03348214 0.14508929\n",
      " 0.11216518 0.13839286 0.09765625 0.1015625  0.         0.\n",
      " 0.         0.         0.         0.         0.         0.\n",
      " 0.         0.        ]\n"
     ]
    }
   ],
   "source": [
    "# Now we want to give a weight to each node in each matrix. In particulare if a node has a lot of connections, it should have a weight which is linear wrt the sum of its edges.\n",
    "\n",
    "M_s = []\n",
    "M_t = []\n",
    "\n",
    "for i in range(length_s):\n",
    "    s = sum(matrix_s[i,:])\n",
    "    M_s.append(s)\n",
    "M_s = M_s/sum(M_s)\n",
    "\n",
    "\n",
    "for i in range(length_t):\n",
    "    s = sum(matrix_t[i,:])\n",
    "    M_t.append(s)\n",
    "M_t = M_t/sum(M_t)\n",
    "\n",
    "\n",
    "print(M_s)\n",
    "print(\"\\n\")\n",
    "print(M_t)"
   ]
  },
  {
   "cell_type": "code",
   "execution_count": 6,
   "metadata": {},
   "outputs": [
    {
     "name": "stdout",
     "output_type": "stream",
     "text": [
      "[[ 0.  0.  0. 63. 54.  0.  5. 68. 17.  0.]\n",
      " [ 0.  0. 17.  0.  0.  0.  0. 56. 46. 45.]\n",
      " [ 0. 17.  0.  0. 76. 63.  0. 79.  0. 95.]\n",
      " [63.  0.  0.  0.  0.  0.  0. 34.  0. 23.]\n",
      " [54.  0. 76.  0.  0.  0.  8.  8.  0.  0.]\n",
      " [ 0.  0. 63.  0.  0.  0.  0.  0. 48.  0.]\n",
      " [ 5.  0.  0.  0.  8.  0.  0.  0.  0.  0.]\n",
      " [68. 56. 79. 34.  8.  0.  0.  0.  0. 71.]\n",
      " [17. 46.  0.  0.  0. 48.  0.  0.  0.  0.]\n",
      " [ 0. 45. 95. 23.  0.  0.  0. 71.  0.  0.]]\n",
      "\n",
      "\n",
      "[[ 0.  0. 14. 23.  0.  0.  0. 88. 92.  0.  0.  0.  0.  0.  0.  0.  0.  0.\n",
      "   0.  0.]\n",
      " [ 0.  0.  0. 93.  0. 58. 33.  0.  0.  0.  0.  0.  0.  0.  0.  0.  0.  0.\n",
      "   0.  0.]\n",
      " [14.  0.  0.  0.  0.  0. 70.  0.  0.  0.  0.  0.  0.  0.  0.  0.  0.  0.\n",
      "   0.  0.]\n",
      " [23. 93.  0.  0.  0.  0.  0. 65.  0.  0.  0.  0.  0.  0.  0.  0.  0.  0.\n",
      "   0.  0.]\n",
      " [ 0.  0.  0.  0.  0.  0.  0.  2.  0. 58.  0.  0.  0.  0.  0.  0.  0.  0.\n",
      "   0.  0.]\n",
      " [ 0. 58.  0.  0.  0.  0.  0. 24. 83. 95.  0.  0.  0.  0.  0.  0.  0.  0.\n",
      "   0.  0.]\n",
      " [ 0. 33. 70.  0.  0.  0.  0. 69.  0. 29.  0.  0.  0.  0.  0.  0.  0.  0.\n",
      "   0.  0.]\n",
      " [88.  0.  0. 65.  2. 24. 69.  0.  0.  0.  0.  0.  0.  0.  0.  0.  0.  0.\n",
      "   0.  0.]\n",
      " [92.  0.  0.  0.  0. 83.  0.  0.  0.  0.  0.  0.  0.  0.  0.  0.  0.  0.\n",
      "   0.  0.]\n",
      " [ 0.  0.  0.  0. 58. 95. 29.  0.  0.  0.  0.  0.  0.  0.  0.  0.  0.  0.\n",
      "   0.  0.]\n",
      " [ 0.  0.  0.  0.  0.  0.  0.  0.  0.  0.  0.  0.  0.  0.  0.  0.  0.  0.\n",
      "   0.  0.]\n",
      " [ 0.  0.  0.  0.  0.  0.  0.  0.  0.  0.  0.  0.  0.  0.  0.  0.  0.  0.\n",
      "   0.  0.]\n",
      " [ 0.  0.  0.  0.  0.  0.  0.  0.  0.  0.  0.  0.  0.  0.  0.  0.  0.  0.\n",
      "   0.  0.]\n",
      " [ 0.  0.  0.  0.  0.  0.  0.  0.  0.  0.  0.  0.  0.  0.  0.  0.  0.  0.\n",
      "   0.  0.]\n",
      " [ 0.  0.  0.  0.  0.  0.  0.  0.  0.  0.  0.  0.  0.  0.  0.  0.  0.  0.\n",
      "   0.  0.]\n",
      " [ 0.  0.  0.  0.  0.  0.  0.  0.  0.  0.  0.  0.  0.  0.  0.  0.  0.  0.\n",
      "   0.  0.]\n",
      " [ 0.  0.  0.  0.  0.  0.  0.  0.  0.  0.  0.  0.  0.  0.  0.  0.  0.  0.\n",
      "   0.  0.]\n",
      " [ 0.  0.  0.  0.  0.  0.  0.  0.  0.  0.  0.  0.  0.  0.  0.  0.  0.  0.\n",
      "   0.  0.]\n",
      " [ 0.  0.  0.  0.  0.  0.  0.  0.  0.  0.  0.  0.  0.  0.  0.  0.  0.  0.\n",
      "   0.  0.]\n",
      " [ 0.  0.  0.  0.  0.  0.  0.  0.  0.  0.  0.  0.  0.  0.  0.  0.  0.  0.\n",
      "   0.  0.]]\n"
     ]
    }
   ],
   "source": [
    "# This are matrices which represent the similitude between nodes.\n",
    "\n",
    "C_s = 1/(1 + matrix_s)\n",
    "\n",
    "C_t = 1/(1 + matrix_t)\n",
    "\n",
    "print(matrix_s)\n",
    "print(\"\\n\")\n",
    "print(matrix_t)"
   ]
  },
  {
   "cell_type": "code",
   "execution_count": 7,
   "metadata": {},
   "outputs": [],
   "source": [
    "d = 3\n",
    "beta = 0.5\n",
    "gamma = 0.5\n",
    "inner_n = 50\n",
    "outer_n = 80"
   ]
  },
  {
   "cell_type": "code",
   "execution_count": 8,
   "metadata": {},
   "outputs": [
    {
     "name": "stdout",
     "output_type": "stream",
     "text": [
      "[[0.01430731 0.01213154 0.00553831 0.01193375 0.00395594 0.0171424\n",
      "  0.01325239 0.01635121 0.01153815 0.01199968 0.         0.\n",
      "  0.         0.         0.         0.         0.         0.\n",
      "  0.         0.        ]\n",
      " [0.01133526 0.00961146 0.00438784 0.00945476 0.00313417 0.01358142\n",
      "  0.01049948 0.01295458 0.00914134 0.00950699 0.         0.\n",
      "  0.         0.         0.         0.         0.         0.\n",
      "  0.         0.        ]\n",
      " [0.02280875 0.01934014 0.0088292  0.01902481 0.00630657 0.02732846\n",
      "  0.021127   0.02606715 0.01839416 0.01912992 0.         0.\n",
      "  0.         0.         0.         0.         0.         0.\n",
      "  0.         0.        ]\n",
      " [0.00829409 0.00703278 0.00321062 0.00691811 0.0022933  0.00993762\n",
      "  0.00768255 0.00947896 0.00668878 0.00695634 0.         0.\n",
      "  0.         0.         0.         0.         0.         0.\n",
      "  0.         0.        ]\n",
      " [0.01009115 0.00855655 0.00390625 0.00841704 0.00279018 0.01209077\n",
      "  0.0093471  0.01153274 0.00813802 0.00846354 0.         0.\n",
      "  0.         0.         0.         0.         0.         0.\n",
      "  0.         0.        ]\n",
      " [0.00767204 0.00650532 0.00296982 0.00639926 0.0021213  0.0091923\n",
      "  0.00710636 0.00876804 0.00618713 0.00643461 0.         0.\n",
      "  0.         0.         0.         0.         0.         0.\n",
      "  0.         0.        ]\n",
      " [0.00089853 0.00076188 0.00034782 0.00074946 0.00024844 0.00107658\n",
      "  0.00083228 0.00102689 0.00072462 0.0007536  0.         0.\n",
      "  0.         0.         0.         0.         0.         0.\n",
      "  0.         0.        ]\n",
      " [0.02184111 0.01851965 0.00845462 0.0182177  0.00603902 0.02616907\n",
      "  0.02023071 0.02496127 0.0176138  0.01831835 0.         0.\n",
      "  0.         0.         0.         0.         0.         0.\n",
      "  0.         0.        ]\n",
      " [0.00767204 0.00650532 0.00296982 0.00639926 0.0021213  0.0091923\n",
      "  0.00710636 0.00876804 0.00618713 0.00643461 0.         0.\n",
      "  0.         0.         0.         0.         0.         0.\n",
      "  0.         0.        ]\n",
      " [0.01617348 0.01371392 0.0062607  0.01349032 0.00447193 0.01937836\n",
      "  0.01498097 0.01848398 0.01304313 0.01356485 0.         0.\n",
      "  0.         0.         0.         0.         0.         0.\n",
      "  0.         0.        ]]\n"
     ]
    },
    {
     "data": {
      "text/plain": [
       "array([[0., 0., 0., 0., 0., 1., 0., 0., 0., 0., 0., 0., 0., 0., 0., 0.,\n",
       "        0., 0., 0., 0.],\n",
       "       [0., 0., 0., 0., 0., 1., 0., 0., 0., 0., 0., 0., 0., 0., 0., 0.,\n",
       "        0., 0., 0., 0.],\n",
       "       [0., 0., 0., 0., 0., 1., 0., 0., 0., 0., 0., 0., 0., 0., 0., 0.,\n",
       "        0., 0., 0., 0.],\n",
       "       [0., 0., 0., 0., 0., 1., 0., 0., 0., 0., 0., 0., 0., 0., 0., 0.,\n",
       "        0., 0., 0., 0.],\n",
       "       [0., 0., 0., 0., 0., 1., 0., 0., 0., 0., 0., 0., 0., 0., 0., 0.,\n",
       "        0., 0., 0., 0.],\n",
       "       [0., 0., 0., 0., 0., 1., 0., 0., 0., 0., 0., 0., 0., 0., 0., 0.,\n",
       "        0., 0., 0., 0.],\n",
       "       [0., 0., 0., 0., 0., 1., 0., 0., 0., 0., 0., 0., 0., 0., 0., 0.,\n",
       "        0., 0., 0., 0.],\n",
       "       [0., 0., 0., 0., 0., 1., 0., 0., 0., 0., 0., 0., 0., 0., 0., 0.,\n",
       "        0., 0., 0., 0.],\n",
       "       [0., 0., 0., 0., 0., 1., 0., 0., 0., 0., 0., 0., 0., 0., 0., 0.,\n",
       "        0., 0., 0., 0.],\n",
       "       [0., 0., 0., 0., 0., 1., 0., 0., 0., 0., 0., 0., 0., 0., 0., 0.,\n",
       "        0., 0., 0., 0.]])"
      ]
     },
     "execution_count": 8,
     "metadata": {},
     "output_type": "execute_result"
    }
   ],
   "source": [
    "OT = np.outer(M_s, M_t)\n",
    "correspondence = OT.copy()\n",
    "print(OT)\n",
    "\n",
    "for i in range(length_s):\n",
    "    for j in range(length_t):\n",
    "        if correspondence[i][j] == max(OT[i,:]):\n",
    "            correspondence[i][j] = 1\n",
    "        else:\n",
    "            correspondence[i][j] = 0\n",
    "\n",
    "correspondence"
   ]
  },
  {
   "cell_type": "code",
   "execution_count": 9,
   "metadata": {},
   "outputs": [],
   "source": [
    "lambda_reg = 0.001"
   ]
  },
  {
   "cell_type": "code",
   "execution_count": 10,
   "metadata": {},
   "outputs": [],
   "source": [
    "def GWL_simple(C_s, C_t, M_s, M_t, beta, gamma, d, inner_n, outer_n, lambda_reg):\n",
    "    \"\"\"\n",
    "    Simplified Gromov-Wasserstein Learning (GWL) with entropy-regularized cost, embedding updates,\n",
    "    and regularization R(X_s, X_t).\n",
    "    \n",
    "    Parameters:\n",
    "    - C_s: Cost matrix for source graph (length_s x length_s). \n",
    "    - C_t: Cost matrix for target graph (length_t x length_t).\n",
    "    - M_s: Marginal distribution for source graph (length_s,).\n",
    "    - M_t: Marginal distribution for target graph (length_t,).\n",
    "    - beta: Regularization parameter for Sinkhorn iterations.\n",
    "    - gamma: Regularization parameter for entropy term.\n",
    "    - alpha: Weight for embedding-level cost regularization.\n",
    "    - d: Dimension of the embeddings.\n",
    "    - inner_n: Number of inner Sinkhorn iterations.\n",
    "    - outer_n: Number of outer embedding updates.\n",
    "    - lambda_reg: Regularization weight for R(X_s, X_t).\n",
    "    \"\"\"\n",
    "    length_s, length_t = C_s.shape[0], C_t.shape[0]\n",
    "\n",
    "    # Initialize embeddings\n",
    "    embed_s = np.random.rand(d, length_s) * 5\n",
    "    embed_t = np.random.rand(d, length_t) * 5\n",
    "\n",
    "    # Initialize transport matrix\n",
    "    T = np.outer(M_s, M_t)\n",
    "\n",
    "    for m in range(outer_n):\n",
    "        alpha_m = m / outer_n  # Gradual interpolation weight\n",
    "\n",
    "        # Inner loop: Update transport matrix T using entropy regularization\n",
    "        for n in range(inner_n):\n",
    "            # Compute embedding-level cost\n",
    "            K_embed = np.zeros((length_s, length_t))\n",
    "            for i in range(length_s):\n",
    "                for j in range(length_t):\n",
    "                    K_embed[i, j] = np.sum((embed_s[:, i] - embed_t[:, j]) ** 2)\n",
    "\n",
    "            # Compute graph-level cost\n",
    "            graph_cost = C_s @ T @ C_t.T\n",
    "            C_mn = graph_cost + alpha_m * K_embed + gamma\n",
    "\n",
    "            # Add entropy regularization term\n",
    "            C_reg = C_mn - gamma * np.log(T + 1e-8)\n",
    "            \n",
    "            # Sinkhorn update\n",
    "            kernel = np.exp(-C_reg / beta)\n",
    "            a = np.ones(length_s)\n",
    "            for _ in range(inner_n):\n",
    "                b = M_t / (kernel.T @ a)\n",
    "                a = M_s / (kernel @ b)\n",
    "\n",
    "            T = np.diag(a) @ kernel @ np.diag(b)\n",
    "\n",
    "        # Update embeddings by minimizing α_m <K(X_s, X_t), T> + β R(X_s, X_t)\n",
    "        for _ in range(10):  # Gradient descent steps\n",
    "            # Compute gradients of K(X_s, X_t)\n",
    "            grad_s = np.zeros_like(embed_s)\n",
    "            grad_t = np.zeros_like(embed_t)\n",
    "            for i in range(length_s):\n",
    "                for j in range(length_t):\n",
    "                    grad_s[:, i] += 2 * T[i, j] * (embed_s[:, i] - embed_t[:, j])\n",
    "                    grad_t[:, j] += 2 * T[i, j] * (embed_t[:, j] - embed_s[:, i])\n",
    "\n",
    "            # Add gradients of R(X_s, X_t)\n",
    "            for i in range(length_s):\n",
    "                for j in range(length_s):\n",
    "                    grad_s[:, i] += lambda_reg * 4 * ((np.sum((embed_s[:, i] - embed_s[:, j]) ** 2) - C_s[i, j]) *\n",
    "                                                      (embed_s[:, i] - embed_s[:, j]))\n",
    "\n",
    "            for i in range(length_t):\n",
    "                for j in range(length_t):\n",
    "                    grad_t[:, i] += lambda_reg * 4 * ((np.sum((embed_t[:, i] - embed_t[:, j]) ** 2) - C_t[i, j]) *\n",
    "                                                      (embed_t[:, i] - embed_t[:, j]))\n",
    "\n",
    "            # Gradient descent step\n",
    "            embed_s -= alpha_m * grad_s\n",
    "            embed_t -= alpha_m * grad_t\n",
    "\n",
    "    # Compute final loss\n",
    "    final_cost = np.sum(T * C_mn)\n",
    "    entropy = -np.sum(T * np.log(T + 1e-8))\n",
    "    total_loss = final_cost - gamma * entropy\n",
    "\n",
    "    # Graph matching\n",
    "    correspondence = np.zeros_like(T)\n",
    "    for i in range(length_s):\n",
    "        max_idx = np.argmax(T[i, :])\n",
    "        correspondence[i, max_idx] = 1\n",
    "\n",
    "    return embed_s, embed_t, T, correspondence, total_loss\n"
   ]
  },
  {
   "cell_type": "code",
   "execution_count": 11,
   "metadata": {},
   "outputs": [],
   "source": [
    "embed_s, embed_t, OT, correspondence, total_loss = GWL_simple(C_s, C_t, M_s, M_t, beta, gamma, d, inner_n, outer_n, lambda_reg)"
   ]
  },
  {
   "cell_type": "code",
   "execution_count": 12,
   "metadata": {},
   "outputs": [
    {
     "data": {
      "text/plain": [
       "array([[2.16371909, 2.78243604, 2.36014883, 2.3491374 , 2.41712638,\n",
       "        2.20542718, 2.24400453, 2.80650417, 2.16483409, 2.77987976,\n",
       "        2.55368424, 2.65284937, 3.13277809, 2.78419772, 2.9690229 ,\n",
       "        2.8803748 , 3.03032757, 2.27144344, 3.2512785 , 2.96667824],\n",
       "       [2.47138845, 2.18260137, 1.9326747 , 1.97008452, 1.90818207,\n",
       "        2.42060206, 2.20936543, 2.201796  , 2.46569259, 2.17845651,\n",
       "        2.7967007 , 2.49056508, 2.06313736, 2.65510932, 2.92136899,\n",
       "        2.21581672, 2.87427913, 2.87410091, 2.14209232, 2.95415741],\n",
       "       [2.79845983, 3.01060079, 2.57280898, 2.61109012, 2.58973761,\n",
       "        2.80782116, 2.72968815, 3.02031924, 2.80125317, 3.00874521,\n",
       "        2.05761043, 1.91890153, 2.25586912, 1.99675973, 2.80519674,\n",
       "        1.97725606, 2.81126392, 2.27353835, 2.45344755, 2.70262038]])"
      ]
     },
     "execution_count": 12,
     "metadata": {},
     "output_type": "execute_result"
    }
   ],
   "source": [
    "embed_t"
   ]
  },
  {
   "cell_type": "code",
   "execution_count": 13,
   "metadata": {},
   "outputs": [
    {
     "data": {
      "image/png": "[encoded data removed]",
      "text/plain": [
       "<Figure size 720x720 with 1 Axes>"
      ]
     },
     "metadata": {
      "needs_background": "light"
     },
     "output_type": "display_data"
    }
   ],
   "source": [
    "import matplotlib.pyplot as plt\n",
    "from mpl_toolkits.mplot3d import Axes3D\n",
    "\n",
    "# Generiamo una matrice casuale 3x30\n",
    "matrix = embed_s\n",
    "\n",
    "# Creiamo un plot in 3D\n",
    "fig = plt.figure(figsize=(10,10))\n",
    "ax = fig.add_subplot(111, projection='3d')\n",
    "\n",
    "# Estrarre le coordinate dei punti\n",
    "x = matrix[0, :]\n",
    "y = matrix[1, :]\n",
    "z = matrix[2, :]\n",
    "\n",
    "# Scatter plot dei punti\n",
    "ax.scatter(x, y, z, color='r',marker='o')\n",
    "\n",
    "x2=embed_t[0,:]\n",
    "y2 = embed_t[1,:]\n",
    "z2 = embed_t[2,:]\n",
    "ax.scatter(x2,y2,z2, color='b',marker='o')\n",
    "\n",
    "\n",
    "\n",
    "# Etichette degli assi\n",
    "ax.set_xlabel('X')\n",
    "ax.set_ylabel('Y')\n",
    "ax.set_zlabel('Z')\n",
    "\n",
    "# Titolo\n",
    "ax.set_title('Plot dei punti in R^3')\n",
    "\n",
    "plt.show()"
   ]
  },
  {
   "cell_type": "code",
   "execution_count": 14,
   "metadata": {},
   "outputs": [
    {
     "data": {
      "application/vnd.plotly.v1+json": {
       "config": {
        "plotlyServerURL": "https://plot.ly"
       },
       "data": [
        {
         "marker": {
          "color": "red",
          "size": 5
         },
         "mode": "markers+text",
         "name": "embed_s",
         "text": [
          "S0",
          "S1",
          "S2",
          "S3",
          "S4",
          "S5",
          "S6",
          "S7",
          "S8",
          "S9"
         ],
         "textposition": "top center",
         "type": "scatter3d",
         "x": [
          2.215576817018338,
          2.8071856721968325,
          2.784230296221444,
          2.2987302250638377,
          2.1512297252538852,
          2.8440358971861537,
          2.056307569151454,
          2.1800637619207954,
          2.214425072560728,
          2.3771053898075074
         ],
         "y": [
          2.266038606147298,
          2.198226852155072,
          2.1807868691482546,
          2.0108862279485575,
          2.490181409983841,
          2.204906434404721,
          2.7209150579528387,
          2.4481445708437315,
          2.428753209217474,
          1.9282833642237156
         ],
         "z": [
          2.742190158045704,
          3.0202409479414225,
          3.0110734679472557,
          2.6210710595423303,
          2.8022038278250774,
          3.041793336399141,
          2.760727430974263,
          2.802336133269494,
          2.82295150859515,
          2.588959231036524
         ]
        }
       ],
       "layout": {
        "scene": {
         "xaxis": {
          "title": {
           "text": "X"
          }
         },
         "yaxis": {
          "title": {
           "text": "Y"
          }
         },
         "zaxis": {
          "title": {
           "text": "Z"
          }
         }
        },
        "template": {
         "data": {
          "bar": [
           {
            "error_x": {
             "color": "#2a3f5f"
            },
            "error_y": {
             "color": "#2a3f5f"
            },
            "marker": {
             "line": {
              "color": "#E5ECF6",
              "width": 0.5
             },
             "pattern": {
              "fillmode": "overlay",
              "size": 10,
              "solidity": 0.2
             }
            },
            "type": "bar"
           }
          ],
          "barpolar": [
           {
            "marker": {
             "line": {
              "color": "#E5ECF6",
              "width": 0.5
             },
             "pattern": {
              "fillmode": "overlay",
              "size": 10,
              "solidity": 0.2
             }
            },
            "type": "barpolar"
           }
          ],
          "carpet": [
           {
            "aaxis": {
             "endlinecolor": "#2a3f5f",
             "gridcolor": "white",
             "linecolor": "white",
             "minorgridcolor": "white",
             "startlinecolor": "#2a3f5f"
            },
            "baxis": {
             "endlinecolor": "#2a3f5f",
             "gridcolor": "white",
             "linecolor": "white",
             "minorgridcolor": "white",
             "startlinecolor": "#2a3f5f"
            },
            "type": "carpet"
           }
          ],
          "choropleth": [
           {
            "colorbar": {
             "outlinewidth": 0,
             "ticks": ""
            },
            "type": "choropleth"
           }
          ],
          "contour": [
           {
            "colorbar": {
             "outlinewidth": 0,
             "ticks": ""
            },
            "colorscale": [
             [
              0,
              "#0d0887"
             ],
             [
              0.1111111111111111,
              "#46039f"
             ],
             [
              0.2222222222222222,
              "#7201a8"
             ],
             [
              0.3333333333333333,
              "#9c179e"
             ],
             [
              0.4444444444444444,
              "#bd3786"
             ],
             [
              0.5555555555555556,
              "#d8576b"
             ],
             [
              0.6666666666666666,
              "#ed7953"
             ],
             [
              0.7777777777777778,
              "#fb9f3a"
             ],
             [
              0.8888888888888888,
              "#fdca26"
             ],
             [
              1,
              "#f0f921"
             ]
            ],
            "type": "contour"
           }
          ],
          "contourcarpet": [
           {
            "colorbar": {
             "outlinewidth": 0,
             "ticks": ""
            },
            "type": "contourcarpet"
           }
          ],
          "heatmap": [
           {
            "colorbar": {
             "outlinewidth": 0,
             "ticks": ""
            },
            "colorscale": [
             [
              0,
              "#0d0887"
             ],
             [
              0.1111111111111111,
              "#46039f"
             ],
             [
              0.2222222222222222,
              "#7201a8"
             ],
             [
              0.3333333333333333,
              "#9c179e"
             ],
             [
              0.4444444444444444,
              "#bd3786"
             ],
             [
              0.5555555555555556,
              "#d8576b"
             ],
             [
              0.6666666666666666,
              "#ed7953"
             ],
             [
              0.7777777777777778,
              "#fb9f3a"
             ],
             [
              0.8888888888888888,
              "#fdca26"
             ],
             [
              1,
              "#f0f921"
             ]
            ],
            "type": "heatmap"
           }
          ],
          "heatmapgl": [
           {
            "colorbar": {
             "outlinewidth": 0,
             "ticks": ""
            },
            "colorscale": [
             [
              0,
              "#0d0887"
             ],
             [
              0.1111111111111111,
              "#46039f"
             ],
             [
              0.2222222222222222,
              "#7201a8"
             ],
             [
              0.3333333333333333,
              "#9c179e"
             ],
             [
              0.4444444444444444,
              "#bd3786"
             ],
             [
              0.5555555555555556,
              "#d8576b"
             ],
             [
              0.6666666666666666,
              "#ed7953"
             ],
             [
              0.7777777777777778,
              "#fb9f3a"
             ],
             [
              0.8888888888888888,
              "#fdca26"
             ],
             [
              1,
              "#f0f921"
             ]
            ],
            "type": "heatmapgl"
           }
          ],
          "histogram": [
           {
            "marker": {
             "pattern": {
              "fillmode": "overlay",
              "size": 10,
              "solidity": 0.2
             }
            },
            "type": "histogram"
           }
          ],
          "histogram2d": [
           {
            "colorbar": {
             "outlinewidth": 0,
             "ticks": ""
            },
            "colorscale": [
             [
              0,
              "#0d0887"
             ],
             [
              0.1111111111111111,
              "#46039f"
             ],
             [
              0.2222222222222222,
              "#7201a8"
             ],
             [
              0.3333333333333333,
              "#9c179e"
             ],
             [
              0.4444444444444444,
              "#bd3786"
             ],
             [
              0.5555555555555556,
              "#d8576b"
             ],
             [
              0.6666666666666666,
              "#ed7953"
             ],
             [
              0.7777777777777778,
              "#fb9f3a"
             ],
             [
              0.8888888888888888,
              "#fdca26"
             ],
             [
              1,
              "#f0f921"
             ]
            ],
            "type": "histogram2d"
           }
          ],
          "histogram2dcontour": [
           {
            "colorbar": {
             "outlinewidth": 0,
             "ticks": ""
            },
            "colorscale": [
             [
              0,
              "#0d0887"
             ],
             [
              0.1111111111111111,
              "#46039f"
             ],
             [
              0.2222222222222222,
              "#7201a8"
             ],
             [
              0.3333333333333333,
              "#9c179e"
             ],
             [
              0.4444444444444444,
              "#bd3786"
             ],
             [
              0.5555555555555556,
              "#d8576b"
             ],
             [
              0.6666666666666666,
              "#ed7953"
             ],
             [
              0.7777777777777778,
              "#fb9f3a"
             ],
             [
              0.8888888888888888,
              "#fdca26"
             ],
             [
              1,
              "#f0f921"
             ]
            ],
            "type": "histogram2dcontour"
           }
          ],
          "mesh3d": [
           {
            "colorbar": {
             "outlinewidth": 0,
             "ticks": ""
            },
            "type": "mesh3d"
           }
          ],
          "parcoords": [
           {
            "line": {
             "colorbar": {
              "outlinewidth": 0,
              "ticks": ""
             }
            },
            "type": "parcoords"
           }
          ],
          "pie": [
           {
            "automargin": true,
            "type": "pie"
           }
          ],
          "scatter": [
           {
            "marker": {
             "colorbar": {
              "outlinewidth": 0,
              "ticks": ""
             }
            },
            "type": "scatter"
           }
          ],
          "scatter3d": [
           {
            "line": {
             "colorbar": {
              "outlinewidth": 0,
              "ticks": ""
             }
            },
            "marker": {
             "colorbar": {
              "outlinewidth": 0,
              "ticks": ""
             }
            },
            "type": "scatter3d"
           }
          ],
          "scattercarpet": [
           {
            "marker": {
             "colorbar": {
              "outlinewidth": 0,
              "ticks": ""
             }
            },
            "type": "scattercarpet"
           }
          ],
          "scattergeo": [
           {
            "marker": {
             "colorbar": {
              "outlinewidth": 0,
              "ticks": ""
             }
            },
            "type": "scattergeo"
           }
          ],
          "scattergl": [
           {
            "marker": {
             "colorbar": {
              "outlinewidth": 0,
              "ticks": ""
             }
            },
            "type": "scattergl"
           }
          ],
          "scattermapbox": [
           {
            "marker": {
             "colorbar": {
              "outlinewidth": 0,
              "ticks": ""
             }
            },
            "type": "scattermapbox"
           }
          ],
          "scatterpolar": [
           {
            "marker": {
             "colorbar": {
              "outlinewidth": 0,
              "ticks": ""
             }
            },
            "type": "scatterpolar"
           }
          ],
          "scatterpolargl": [
           {
            "marker": {
             "colorbar": {
              "outlinewidth": 0,
              "ticks": ""
             }
            },
            "type": "scatterpolargl"
           }
          ],
          "scatterternary": [
           {
            "marker": {
             "colorbar": {
              "outlinewidth": 0,
              "ticks": ""
             }
            },
            "type": "scatterternary"
           }
          ],
          "surface": [
           {
            "colorbar": {
             "outlinewidth": 0,
             "ticks": ""
            },
            "colorscale": [
             [
              0,
              "#0d0887"
             ],
             [
              0.1111111111111111,
              "#46039f"
             ],
             [
              0.2222222222222222,
              "#7201a8"
             ],
             [
              0.3333333333333333,
              "#9c179e"
             ],
             [
              0.4444444444444444,
              "#bd3786"
             ],
             [
              0.5555555555555556,
              "#d8576b"
             ],
             [
              0.6666666666666666,
              "#ed7953"
             ],
             [
              0.7777777777777778,
              "#fb9f3a"
             ],
             [
              0.8888888888888888,
              "#fdca26"
             ],
             [
              1,
              "#f0f921"
             ]
            ],
            "type": "surface"
           }
          ],
          "table": [
           {
            "cells": {
             "fill": {
              "color": "#EBF0F8"
             },
             "line": {
              "color": "white"
             }
            },
            "header": {
             "fill": {
              "color": "#C8D4E3"
             },
             "line": {
              "color": "white"
             }
            },
            "type": "table"
           }
          ]
         },
         "layout": {
          "annotationdefaults": {
           "arrowcolor": "#2a3f5f",
           "arrowhead": 0,
           "arrowwidth": 1
          },
          "autotypenumbers": "strict",
          "coloraxis": {
           "colorbar": {
            "outlinewidth": 0,
            "ticks": ""
           }
          },
          "colorscale": {
           "diverging": [
            [
             0,
             "#8e0152"
            ],
            [
             0.1,
             "#c51b7d"
            ],
            [
             0.2,
             "#de77ae"
            ],
            [
             0.3,
             "#f1b6da"
            ],
            [
             0.4,
             "#fde0ef"
            ],
            [
             0.5,
             "#f7f7f7"
            ],
            [
             0.6,
             "#e6f5d0"
            ],
            [
             0.7,
             "#b8e186"
            ],
            [
             0.8,
             "#7fbc41"
            ],
            [
             0.9,
             "#4d9221"
            ],
            [
             1,
             "#276419"
            ]
           ],
           "sequential": [
            [
             0,
             "#0d0887"
            ],
            [
             0.1111111111111111,
             "#46039f"
            ],
            [
             0.2222222222222222,
             "#7201a8"
            ],
            [
             0.3333333333333333,
             "#9c179e"
            ],
            [
             0.4444444444444444,
             "#bd3786"
            ],
            [
             0.5555555555555556,
             "#d8576b"
            ],
            [
             0.6666666666666666,
             "#ed7953"
            ],
            [
             0.7777777777777778,
             "#fb9f3a"
            ],
            [
             0.8888888888888888,
             "#fdca26"
            ],
            [
             1,
             "#f0f921"
            ]
           ],
           "sequentialminus": [
            [
             0,
             "#0d0887"
            ],
            [
             0.1111111111111111,
             "#46039f"
            ],
            [
             0.2222222222222222,
             "#7201a8"
            ],
            [
             0.3333333333333333,
             "#9c179e"
            ],
            [
             0.4444444444444444,
             "#bd3786"
            ],
            [
             0.5555555555555556,
             "#d8576b"
            ],
            [
             0.6666666666666666,
             "#ed7953"
            ],
            [
             0.7777777777777778,
             "#fb9f3a"
            ],
            [
             0.8888888888888888,
             "#fdca26"
            ],
            [
             1,
             "#f0f921"
            ]
           ]
          },
          "colorway": [
           "#636efa",
           "#EF553B",
           "#00cc96",
           "#ab63fa",
           "#FFA15A",
           "#19d3f3",
           "#FF6692",
           "#B6E880",
           "#FF97FF",
           "#FECB52"
          ],
          "font": {
           "color": "#2a3f5f"
          },
          "geo": {
           "bgcolor": "white",
           "lakecolor": "white",
           "landcolor": "#E5ECF6",
           "showlakes": true,
           "showland": true,
           "subunitcolor": "white"
          },
          "hoverlabel": {
           "align": "left"
          },
          "hovermode": "closest",
          "mapbox": {
           "style": "light"
          },
          "paper_bgcolor": "white",
          "plot_bgcolor": "#E5ECF6",
          "polar": {
           "angularaxis": {
            "gridcolor": "white",
            "linecolor": "white",
            "ticks": ""
           },
           "bgcolor": "#E5ECF6",
           "radialaxis": {
            "gridcolor": "white",
            "linecolor": "white",
            "ticks": ""
           }
          },
          "scene": {
           "xaxis": {
            "backgroundcolor": "#E5ECF6",
            "gridcolor": "white",
            "gridwidth": 2,
            "linecolor": "white",
            "showbackground": true,
            "ticks": "",
            "zerolinecolor": "white"
           },
           "yaxis": {
            "backgroundcolor": "#E5ECF6",
            "gridcolor": "white",
            "gridwidth": 2,
            "linecolor": "white",
            "showbackground": true,
            "ticks": "",
            "zerolinecolor": "white"
           },
           "zaxis": {
            "backgroundcolor": "#E5ECF6",
            "gridcolor": "white",
            "gridwidth": 2,
            "linecolor": "white",
            "showbackground": true,
            "ticks": "",
            "zerolinecolor": "white"
           }
          },
          "shapedefaults": {
           "line": {
            "color": "#2a3f5f"
           }
          },
          "ternary": {
           "aaxis": {
            "gridcolor": "white",
            "linecolor": "white",
            "ticks": ""
           },
           "baxis": {
            "gridcolor": "white",
            "linecolor": "white",
            "ticks": ""
           },
           "bgcolor": "#E5ECF6",
           "caxis": {
            "gridcolor": "white",
            "linecolor": "white",
            "ticks": ""
           }
          },
          "title": {
           "x": 0.05
          },
          "xaxis": {
           "automargin": true,
           "gridcolor": "white",
           "linecolor": "white",
           "ticks": "",
           "title": {
            "standoff": 15
           },
           "zerolinecolor": "white",
           "zerolinewidth": 2
          },
          "yaxis": {
           "automargin": true,
           "gridcolor": "white",
           "linecolor": "white",
           "ticks": "",
           "title": {
            "standoff": 15
           },
           "zerolinecolor": "white",
           "zerolinewidth": 2
          }
         }
        },
        "title": {
         "text": "Interactive 3D Scatter Plot"
        }
       }
      }
     },
     "metadata": {},
     "output_type": "display_data"
    }
   ],
   "source": [
    "import numpy as np\n",
    "import plotly.graph_objects as go\n",
    "\n",
    "# Etichette per embed_s e embed_t\n",
    "labels_s = [f'S{i}' for i in range(embed_s.shape[1])]\n",
    "labels_t = [f'T{i}' for i in range(embed_t.shape[1])]\n",
    "\n",
    "# Creiamo il grafico scatter interattivo\n",
    "fig = go.Figure()\n",
    "\n",
    "# Aggiungi i punti della prima matrice (embed_s) in rosso\n",
    "fig.add_trace(go.Scatter3d(\n",
    "    x=embed_s[0, :],\n",
    "    y=embed_s[1, :],\n",
    "    z=embed_s[2, :],\n",
    "    mode='markers+text',\n",
    "    marker=dict(size=5, color='red'),\n",
    "    text=labels_s,  # Etichette per ogni punto\n",
    "    textposition='top center',\n",
    "    name='embed_s'\n",
    "))\n",
    "\n",
    "# Aggiungi i punti della seconda matrice (embed_t) in blu\n",
    "#fig.add_trace(go.Scatter3d(\n",
    "    #x=embed_t[0, :],\n",
    "    #y=embed_t[1, :],\n",
    "    #z=embed_t[2, :],\n",
    "    #mode='markers+text',\n",
    "    #marker=dict(size=5, color='blue'),\n",
    "    #text=labels_t,  # Etichette per ogni punto\n",
    "    #textposition='top center',\n",
    "    #name='embed_t'\n",
    "#))\n",
    "\n",
    "# Personalizzazione del layout\n",
    "fig.update_layout(\n",
    "    title='Interactive 3D Scatter Plot',\n",
    "    scene=dict(\n",
    "        xaxis_title='X',\n",
    "        yaxis_title='Y',\n",
    "        zaxis_title='Z'\n",
    "    )\n",
    ")\n",
    "\n",
    "# Mostra il grafico\n",
    "fig.show()\n"
   ]
  },
  {
   "cell_type": "code",
   "execution_count": 25,
   "metadata": {},
   "outputs": [
    {
     "data": {
      "image/png": "[encoded data removed]",
      "text/plain": [
       "<Figure size 720x720 with 1 Axes>"
      ]
     },
     "metadata": {},
     "output_type": "display_data"
    }
   ],
   "source": [
    "G=nx.from_numpy_array(matrix_s)\n",
    "pos = nx.spring_layout(G, seed=7)  # positions for all nodes - seed for reproducibility\n",
    "\n",
    "\n",
    "f=plt.figure(figsize=(10,10))\n",
    "# nodes\n",
    "nx.draw_networkx_nodes(G, pos, node_size=100)\n",
    "\n",
    "# edges\n",
    "nx.draw_networkx_edges(G, pos, width=1)\n",
    "\n",
    "\n",
    "# node labels\n",
    "nx.draw_networkx_labels(G, pos, font_size=20, font_family=\"sans-serif\")\n",
    "# edge weight labels\n",
    "edge_labels = nx.get_edge_attributes(G, \"weight\")\n",
    "nx.draw_networkx_edge_labels(G, pos, edge_labels)\n",
    "\n",
    "ax = plt.gca()\n",
    "ax.margins(0.08)\n",
    "plt.axis(\"off\")\n",
    "plt.tight_layout()\n",
    "plt.show()"
   ]
  },
  {
   "cell_type": "code",
   "execution_count": 32,
   "metadata": {},
   "outputs": [
    {
     "name": "stderr",
     "output_type": "stream",
     "text": [
      "/var/folders/gd/b2d40bms7s3f8y4f31x7pk1r0000gn/T/ipykernel_9749/915424627.py:1: FutureWarning:\n",
      "\n",
      "adjacency_matrix will return a scipy.sparse array instead of a matrix in Networkx 3.0.\n",
      "\n"
     ]
    },
    {
     "ename": "AttributeError",
     "evalue": "module 'scipy.sparse' has no attribute 'coo_array'",
     "output_type": "error",
     "traceback": [
      "\u001b[0;31m---------------------------------------------------------------------------\u001b[0m",
      "\u001b[0;31mAttributeError\u001b[0m                            Traceback (most recent call last)",
      "Input \u001b[0;32mIn [32]\u001b[0m, in \u001b[0;36m<cell line: 1>\u001b[0;34m()\u001b[0m\n\u001b[0;32m----> 1\u001b[0m \u001b[43mnx\u001b[49m\u001b[38;5;241;43m.\u001b[39;49m\u001b[43madjacency_matrix\u001b[49m\u001b[43m(\u001b[49m\u001b[43mG\u001b[49m\u001b[43m)\u001b[49m\n",
      "File \u001b[0;32m~/opt/anaconda3/lib/python3.9/site-packages/networkx/linalg/graphmatrix.py:173\u001b[0m, in \u001b[0;36madjacency_matrix\u001b[0;34m(G, nodelist, dtype, weight)\u001b[0m\n\u001b[1;32m    167\u001b[0m warnings\u001b[38;5;241m.\u001b[39mwarn(\n\u001b[1;32m    168\u001b[0m     \u001b[38;5;124m\"\u001b[39m\u001b[38;5;124madjacency_matrix will return a scipy.sparse array instead of a matrix in Networkx 3.0.\u001b[39m\u001b[38;5;124m\"\u001b[39m,\n\u001b[1;32m    169\u001b[0m     \u001b[38;5;167;01mFutureWarning\u001b[39;00m,\n\u001b[1;32m    170\u001b[0m     stacklevel\u001b[38;5;241m=\u001b[39m\u001b[38;5;241m2\u001b[39m,\n\u001b[1;32m    171\u001b[0m )\n\u001b[1;32m    172\u001b[0m \u001b[38;5;66;03m# TODO: Change to `to_scipy_sparse_array` for networkx 3.0\u001b[39;00m\n\u001b[0;32m--> 173\u001b[0m \u001b[38;5;28;01mreturn\u001b[39;00m \u001b[43mnx\u001b[49m\u001b[38;5;241;43m.\u001b[39;49m\u001b[43mto_scipy_sparse_matrix\u001b[49m\u001b[43m(\u001b[49m\u001b[43mG\u001b[49m\u001b[43m,\u001b[49m\u001b[43m \u001b[49m\u001b[43mnodelist\u001b[49m\u001b[38;5;241;43m=\u001b[39;49m\u001b[43mnodelist\u001b[49m\u001b[43m,\u001b[49m\u001b[43m \u001b[49m\u001b[43mdtype\u001b[49m\u001b[38;5;241;43m=\u001b[39;49m\u001b[43mdtype\u001b[49m\u001b[43m,\u001b[49m\u001b[43m \u001b[49m\u001b[43mweight\u001b[49m\u001b[38;5;241;43m=\u001b[39;49m\u001b[43mweight\u001b[49m\u001b[43m)\u001b[49m\n",
      "File \u001b[0;32m~/opt/anaconda3/lib/python3.9/site-packages/networkx/convert_matrix.py:1019\u001b[0m, in \u001b[0;36mto_scipy_sparse_matrix\u001b[0;34m(G, nodelist, dtype, weight, format)\u001b[0m\n\u001b[1;32m   1009\u001b[0m \u001b[38;5;28;01mimport\u001b[39;00m \u001b[38;5;21;01mscipy\u001b[39;00m\u001b[38;5;21;01m.\u001b[39;00m\u001b[38;5;21;01msparse\u001b[39;00m\n\u001b[1;32m   1011\u001b[0m warnings\u001b[38;5;241m.\u001b[39mwarn(\n\u001b[1;32m   1012\u001b[0m     (\n\u001b[1;32m   1013\u001b[0m         \u001b[38;5;124m\"\u001b[39m\u001b[38;5;130;01m\\n\u001b[39;00m\u001b[38;5;130;01m\\n\u001b[39;00m\u001b[38;5;124mThe scipy.sparse array containers will be used instead of matrices\u001b[39m\u001b[38;5;130;01m\\n\u001b[39;00m\u001b[38;5;124m\"\u001b[39m\n\u001b[0;32m   (...)\u001b[0m\n\u001b[1;32m   1017\u001b[0m     stacklevel\u001b[38;5;241m=\u001b[39m\u001b[38;5;241m2\u001b[39m,\n\u001b[1;32m   1018\u001b[0m )\n\u001b[0;32m-> 1019\u001b[0m A \u001b[38;5;241m=\u001b[39m \u001b[43mto_scipy_sparse_array\u001b[49m\u001b[43m(\u001b[49m\n\u001b[1;32m   1020\u001b[0m \u001b[43m    \u001b[49m\u001b[43mG\u001b[49m\u001b[43m,\u001b[49m\u001b[43m \u001b[49m\u001b[43mnodelist\u001b[49m\u001b[38;5;241;43m=\u001b[39;49m\u001b[43mnodelist\u001b[49m\u001b[43m,\u001b[49m\u001b[43m \u001b[49m\u001b[43mdtype\u001b[49m\u001b[38;5;241;43m=\u001b[39;49m\u001b[43mdtype\u001b[49m\u001b[43m,\u001b[49m\u001b[43m \u001b[49m\u001b[43mweight\u001b[49m\u001b[38;5;241;43m=\u001b[39;49m\u001b[43mweight\u001b[49m\u001b[43m,\u001b[49m\u001b[43m \u001b[49m\u001b[38;5;28;43mformat\u001b[39;49m\u001b[38;5;241;43m=\u001b[39;49m\u001b[38;5;28;43mformat\u001b[39;49m\n\u001b[1;32m   1021\u001b[0m \u001b[43m\u001b[49m\u001b[43m)\u001b[49m\n\u001b[1;32m   1022\u001b[0m \u001b[38;5;28;01mreturn\u001b[39;00m sp\u001b[38;5;241m.\u001b[39msparse\u001b[38;5;241m.\u001b[39mcsr_matrix(A)\u001b[38;5;241m.\u001b[39masformat(\u001b[38;5;28mformat\u001b[39m)\n",
      "File \u001b[0;32m~/opt/anaconda3/lib/python3.9/site-packages/networkx/convert_matrix.py:921\u001b[0m, in \u001b[0;36mto_scipy_sparse_array\u001b[0;34m(G, nodelist, dtype, weight, format)\u001b[0m\n\u001b[1;32m    919\u001b[0m         r \u001b[38;5;241m+\u001b[39m\u001b[38;5;241m=\u001b[39m diag_index\n\u001b[1;32m    920\u001b[0m         c \u001b[38;5;241m+\u001b[39m\u001b[38;5;241m=\u001b[39m diag_index\n\u001b[0;32m--> 921\u001b[0m     A \u001b[38;5;241m=\u001b[39m \u001b[43msp\u001b[49m\u001b[38;5;241;43m.\u001b[39;49m\u001b[43msparse\u001b[49m\u001b[38;5;241;43m.\u001b[39;49m\u001b[43mcoo_array\u001b[49m((d, (r, c)), shape\u001b[38;5;241m=\u001b[39m(nlen, nlen), dtype\u001b[38;5;241m=\u001b[39mdtype)\n\u001b[1;32m    922\u001b[0m \u001b[38;5;28;01mtry\u001b[39;00m:\n\u001b[1;32m    923\u001b[0m     \u001b[38;5;28;01mreturn\u001b[39;00m A\u001b[38;5;241m.\u001b[39masformat(\u001b[38;5;28mformat\u001b[39m)\n",
      "\u001b[0;31mAttributeError\u001b[0m: module 'scipy.sparse' has no attribute 'coo_array'"
     ]
    }
   ],
   "source": [
    "nx.adjacency_matrix(G)"
   ]
  },
  {
   "cell_type": "code",
   "execution_count": 18,
   "metadata": {},
   "outputs": [
    {
     "data": {
      "text/plain": [
       "array([[ 0.,  0.,  0., 63., 54.,  0.,  5., 68., 17.,  0.],\n",
       "       [ 0.,  0., 17.,  0.,  0.,  0.,  0., 56., 46., 45.],\n",
       "       [ 0., 17.,  0.,  0., 76., 63.,  0., 79.,  0., 95.],\n",
       "       [63.,  0.,  0.,  0.,  0.,  0.,  0., 34.,  0., 23.],\n",
       "       [54.,  0., 76.,  0.,  0.,  0.,  8.,  8.,  0.,  0.],\n",
       "       [ 0.,  0., 63.,  0.,  0.,  0.,  0.,  0., 48.,  0.],\n",
       "       [ 5.,  0.,  0.,  0.,  8.,  0.,  0.,  0.,  0.,  0.],\n",
       "       [68., 56., 79., 34.,  8.,  0.,  0.,  0.,  0., 71.],\n",
       "       [17., 46.,  0.,  0.,  0., 48.,  0.,  0.,  0.,  0.],\n",
       "       [ 0., 45., 95., 23.,  0.,  0.,  0., 71.,  0.,  0.]])"
      ]
     },
     "execution_count": 18,
     "metadata": {},
     "output_type": "execute_result"
    }
   ],
   "source": [
    "matrix_s"
   ]
  },
  {
   "cell_type": "code",
   "execution_count": null,
   "metadata": {},
   "outputs": [],
   "source": []
  }
 ],
 "metadata": {
  "kernelspec": {
   "display_name": "base",
   "language": "python",
   "name": "python3"
  },
  "language_info": {
   "codemirror_mode": {
    "name": "ipython",
    "version": 3
   },
   "file_extension": ".py",
   "mimetype": "text/x-python",
   "name": "python",
   "nbconvert_exporter": "python",
   "pygments_lexer": "ipython3",
   "version": "3.9.12"
  }
 },
 "nbformat": 4,
 "nbformat_minor": 2
}
