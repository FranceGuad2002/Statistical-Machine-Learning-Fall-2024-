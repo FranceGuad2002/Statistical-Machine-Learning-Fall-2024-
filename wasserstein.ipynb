{
 "cells": [
  {
   "cell_type": "code",
   "execution_count": null,
   "metadata": {},
   "outputs": [],
   "source": [
    "from numpy import np\n",
    "from pands import pd"
   ]
  },
  {
   "cell_type": "code",
   "execution_count": 11,
   "metadata": {},
   "outputs": [
    {
     "data": {
      "text/plain": [
       "array([[ 0., 30., 53., 78., 49., 57., 83., 52., 65., 67.],\n",
       "       [30.,  0., 75., 85., 72., 41., 77., 17., 98., 38.],\n",
       "       [53., 75.,  0., 41., 82., 80., 49., 58., 59., 18.],\n",
       "       [78., 85., 41.,  0., 35., 96., 37.,  6., 32., 99.],\n",
       "       [49., 72., 82., 35.,  0., 81., 39., 75., 59., 96.],\n",
       "       [57., 41., 80., 96., 81.,  0.,  5., 83., 49., 36.],\n",
       "       [83., 77., 49., 37., 39.,  5.,  0., 81., 37., 87.],\n",
       "       [52., 17., 58.,  6., 75., 83., 81.,  0., 10., 15.],\n",
       "       [65., 98., 59., 32., 59., 49., 37., 10.,  0., 26.],\n",
       "       [67., 38., 18., 99., 96., 36., 87., 15., 26.,  0.]])"
      ]
     },
     "execution_count": 11,
     "metadata": {},
     "output_type": "execute_result"
    }
   ],
   "source": [
    "# Now we want to create a couple of graphs. In practice, we start setting the number of nodes for each graph.\n",
    "\n",
    "length_x = 10\n",
    "length_y = 20\n",
    "\n",
    "# For each couple of nodes in a graph we generate a random natural number between 0 and 100.\n",
    "\n",
    "matrix_x = np.zeros((length_x, length_x))\n",
    "matrix_y = np.zeros((length_y, length_y))\n",
    "\n",
    "for i in range(lenght_x):\n",
    "    for j in range(i):\n",
    "        rnd = np.random.randint(0, 101)\n",
    "        matrix_x[i][j] = rnd\n",
    "        matrix_x[j][i] = rnd\n",
    "\n",
    "matrix_x\n"
   ]
  }
 ],
 "metadata": {
  "kernelspec": {
   "display_name": "base",
   "language": "python",
   "name": "python3"
  },
  "language_info": {
   "codemirror_mode": {
    "name": "ipython",
    "version": 3
   },
   "file_extension": ".py",
   "mimetype": "text/x-python",
   "name": "python",
   "nbconvert_exporter": "python",
   "pygments_lexer": "ipython3",
   "version": "3.9.12"
  }
 },
 "nbformat": 4,
 "nbformat_minor": 2
}
